{
  "nbformat": 4,
  "nbformat_minor": 0,
  "metadata": {
    "colab": {
      "provenance": [],
      "authorship_tag": "ABX9TyMAx+oPgtI4Hz/oT1JLMfuM",
      "include_colab_link": true
    },
    "kernelspec": {
      "name": "python3",
      "display_name": "Python 3"
    },
    "language_info": {
      "name": "python"
    }
  },
  "cells": [
    {
      "cell_type": "markdown",
      "metadata": {
        "id": "view-in-github",
        "colab_type": "text"
      },
      "source": [
        "<a href=\"https://colab.research.google.com/github/rafi1105/Machine_Learning_colab/blob/main/Data%20Visualization/matplotlib.ipynb\" target=\"_parent\"><img src=\"https://colab.research.google.com/assets/colab-badge.svg\" alt=\"Open In Colab\"/></a>"
      ]
    },
    {
      "cell_type": "markdown",
      "source": [
        "# Data Visualization"
      ],
      "metadata": {
        "id": "dzUsful7t9L9"
      }
    },
    {
      "cell_type": "markdown",
      "source": [
        "woking"
      ],
      "metadata": {
        "id": "45BFiMEEx9a3"
      }
    },
    {
      "cell_type": "markdown",
      "source": [
        "## Mathplotlib Basic"
      ],
      "metadata": {
        "id": "QdPCuJa_uJIe"
      }
    },
    {
      "cell_type": "code",
      "source": [
        "import pandas as pd\n",
        "import numpy as np\n",
        "import matplotlib.pyplot as plt"
      ],
      "metadata": {
        "id": "DRER4Fx8u90m"
      },
      "execution_count": null,
      "outputs": []
    },
    {
      "cell_type": "markdown",
      "source": [
        "## Subplots in Matplotlib"
      ],
      "metadata": {
        "id": "80Kf9-ZsuRRf"
      }
    },
    {
      "cell_type": "code",
      "source": [],
      "metadata": {
        "id": "Aqw-vteyu-lW"
      },
      "execution_count": null,
      "outputs": []
    },
    {
      "cell_type": "markdown",
      "source": [
        "## Object orintent way"
      ],
      "metadata": {
        "id": "oXzcW9d2uXJD"
      }
    },
    {
      "cell_type": "code",
      "source": [],
      "metadata": {
        "id": "AUhRMaMWu_MQ"
      },
      "execution_count": null,
      "outputs": []
    },
    {
      "cell_type": "markdown",
      "source": [
        "## type of plots"
      ],
      "metadata": {
        "id": "rlRej9CnucCI"
      }
    },
    {
      "cell_type": "code",
      "source": [],
      "metadata": {
        "id": "q3YbKPZZu_qJ"
      },
      "execution_count": null,
      "outputs": []
    },
    {
      "cell_type": "markdown",
      "source": [
        "## Saving plots\n"
      ],
      "metadata": {
        "id": "DBtlAkriugk4"
      }
    },
    {
      "cell_type": "code",
      "source": [],
      "metadata": {
        "id": "6MHo-loPvARd"
      },
      "execution_count": null,
      "outputs": []
    },
    {
      "cell_type": "markdown",
      "source": [
        "## Working with images"
      ],
      "metadata": {
        "id": "P35CZgh3ut5B"
      }
    },
    {
      "cell_type": "code",
      "source": [],
      "metadata": {
        "id": "-CINXgqSvAwz"
      },
      "execution_count": null,
      "outputs": []
    },
    {
      "cell_type": "markdown",
      "source": [
        "## Design"
      ],
      "metadata": {
        "id": "Y5hsww5UuxZa"
      }
    }
  ]
}