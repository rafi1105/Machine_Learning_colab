{
  "nbformat": 4,
  "nbformat_minor": 0,
  "metadata": {
    "colab": {
      "provenance": [],
      "name": "ML-P1.ipynb",
      "mount_file_id": "https://gist.github.com/rafi1105/e195e69430bbe384309f9f5fbb925c08#file-ml-p1-ipynb",
      "authorship_tag": "ABX9TyPVsKMa9wrIFIUrH03TuYn+",
      "include_colab_link": true
    },
    "kernelspec": {
      "name": "python3",
      "display_name": "Python 3"
    },
    "language_info": {
      "name": "python"
    }
  },
  "cells": [
    {
      "cell_type": "markdown",
      "metadata": {
        "id": "view-in-github",
        "colab_type": "text"
      },
      "source": [
        "<a href=\"https://colab.research.google.com/github/rafi1105/Machine_Learning_colab/blob/main/ML_P1.ipynb\" target=\"_parent\"><img src=\"https://colab.research.google.com/assets/colab-badge.svg\" alt=\"Open In Colab\"/></a>"
      ]
    },
    {
      "cell_type": "markdown",
      "source": [],
      "metadata": {
        "id": "Aj0bfpJo2m9d"
      }
    },
    {
      "cell_type": "markdown",
      "source": [
        "Starting"
      ],
      "metadata": {
        "id": "gvE5AwHe2ptz"
      }
    },
    {
      "cell_type": "code",
      "source": [
        "import numpy as np"
      ],
      "metadata": {
        "id": "e47W_5wc2tAf"
      },
      "execution_count": null,
      "outputs": []
    },
    {
      "cell_type": "markdown",
      "source": [
        "## **Import dataset drive**"
      ],
      "metadata": {
        "id": "D1Rg3QA15bBm"
      }
    },
    {
      "cell_type": "code",
      "source": [
        "# prompt: drive connect data set\n",
        "\n",
        "# Mount Google Drive\n",
        "from google.colab import drive\n",
        "drive.mount('/content/drive')\n",
        "\n",
        "# Replace 'your_dataset.csv' with the actual path to your dataset in Google Drive\n",
        "heart = '/content/drive/MyDrive/dataset/heat problem/heart.csv'\n",
        "insurance = '/content/drive/MyDrive/dataset/heat problem/insurance.csv'"
      ],
      "metadata": {
        "id": "TlgpkUe94yvK"
      },
      "execution_count": null,
      "outputs": []
    },
    {
      "cell_type": "markdown",
      "source": [
        "**fdcgbfsd**"
      ],
      "metadata": {
        "id": "dP85COMl6D0_"
      }
    }
  ]
}